{
 "cells": [
  {
   "cell_type": "code",
   "execution_count": 2,
   "metadata": {},
   "outputs": [],
   "source": [
    "import numpy as np\n",
    "import matplotlib.pyplot as plt\n",
    "from numpy import empty, nan, savetxt\n",
    "from datetime import datetime\n",
    "import random\n",
    "\n",
    "from source.spinsystem import SpinSystem\n",
    "from source.utils import read_config_file, reconstruct_grid, visualize_grid, plot_array_list\n",
    "from scipy.special import softmax"
   ]
  },
  {
   "cell_type": "code",
   "execution_count": 8,
   "metadata": {},
   "outputs": [],
   "source": [
    "def softmax(x):\n",
    "    e_x = np.exp(x - np.max(x))\n",
    "    return e_x / e_x.sum()\n",
    "\n",
    "def simulate_spin_dynamics(L=50, beta=1.0, alpha=4.0, gamma=1.0, J=1.0, steps=200):\n",
    "    S = np.random.choice([-1, 0, 1], size=(L, L))\n",
    "    C = np.random.choice([-1, 1], size=(L, L))\n",
    "    T = np.random.choice([-1, 1], size=(L, L))\n",
    "    \n",
    "    snapshots = []\n",
    "\n",
    "    def get_neighbors(i, j):\n",
    "        return [((i-1) % L, j), ((i+1) % L, j), (i, (j-1) % L), (i, (j+1) % L)]\n",
    "\n",
    "    def local_field(i, j):\n",
    "        return sum(J * S[x, y] for x, y in get_neighbors(i, j))\n",
    "\n",
    "    def magnetization():\n",
    "        return np.mean(S)\n",
    "\n",
    "    def polarization():\n",
    "        return np.mean(S**2)\n",
    "\n",
    "    def energy_levels(h_loc, M, P, Cij, Tij):\n",
    "        levels = []\n",
    "        for s in [-1, 0, 1]:\n",
    "            H = -s * h_loc + alpha * Cij * s * M + gamma * Tij * s**2 * P\n",
    "            levels.append(-beta * H)\n",
    "        return softmax(levels)\n",
    "\n",
    "    for t in range(steps):\n",
    "        M = magnetization()\n",
    "        P = polarization()\n",
    "\n",
    "        for _ in range(L * L):\n",
    "            i, j = np.random.randint(0, L), np.random.randint(0, L)\n",
    "            h = local_field(i, j)\n",
    "            probs = energy_levels(h, M, P, C[i, j], T[i, j])\n",
    "            S[i, j] = np.random.choice([-1, 0, 1], p=probs)\n",
    "\n",
    "            global_alignment = alpha * S[i, j] * C[i, j] * np.sum(S)\n",
    "            if global_alignment < 0:\n",
    "                C[i, j] *= -1\n",
    "\n",
    "        #if t % 10 == 0:\n",
    "        snapshots.append(S.copy())\n",
    "\n",
    "    return snapshots\n",
    "\n",
    "snapshots = simulate_spin_dynamics()\n",
    "plot_array_list(snapshots, max_cols=10, timesteps=[i for i in range(len(snapshots))])"
   ]
  },
  {
   "cell_type": "code",
   "execution_count": null,
   "metadata": {},
   "outputs": [],
   "source": []
  }
 ],
 "metadata": {
  "kernelspec": {
   "display_name": "base",
   "language": "python",
   "name": "python3"
  },
  "language_info": {
   "codemirror_mode": {
    "name": "ipython",
    "version": 3
   },
   "file_extension": ".py",
   "mimetype": "text/x-python",
   "name": "python",
   "nbconvert_exporter": "python",
   "pygments_lexer": "ipython3",
   "version": "3.12.4"
  }
 },
 "nbformat": 4,
 "nbformat_minor": 2
}
